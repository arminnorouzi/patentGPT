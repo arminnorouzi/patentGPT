{
 "cells": [
  {
   "cell_type": "markdown",
   "metadata": {},
   "source": [
    "# Patent Analysis"
   ]
  },
  {
   "cell_type": "code",
   "execution_count": 56,
   "metadata": {},
   "outputs": [],
   "source": [
    "%%capture\n",
    "# !pip install -r requirements.txt\n"
   ]
  },
  {
   "cell_type": "markdown",
   "metadata": {},
   "source": [
    "## Importing Libraries"
   ]
  },
  {
   "cell_type": "code",
   "execution_count": 57,
   "metadata": {},
   "outputs": [],
   "source": [
    "%%capture\n",
    "import sys\n",
    "import importlib\n",
    "sys.path.append('src')\n",
    "\n",
    "\n",
    "import preprocess_data\n",
    "import qaagent\n",
    "import koragent\n",
    "\n",
    "importlib.reload(preprocess_data)\n",
    "importlib.reload(qaagent)\n",
    "importlib.reload(koragent)\n"
   ]
  },
  {
   "cell_type": "code",
   "execution_count": 58,
   "metadata": {},
   "outputs": [
    {
     "data": {
      "text/plain": [
       "True"
      ]
     },
     "execution_count": 58,
     "metadata": {},
     "output_type": "execute_result"
    }
   ],
   "source": [
    "import nltk\n",
    "nltk.download('all', quiet=True)"
   ]
  },
  {
   "cell_type": "markdown",
   "metadata": {},
   "source": [
    "## Downloading patents and preprocessing"
   ]
  },
  {
   "cell_type": "code",
   "execution_count": 59,
   "metadata": {},
   "outputs": [],
   "source": [
    "year = 2023\n",
    "month = 1\n",
    "day = 5"
   ]
  },
  {
   "cell_type": "code",
   "execution_count": 60,
   "metadata": {},
   "outputs": [
    {
     "name": "stdout",
     "output_type": "stream",
     "text": [
      "File c:\\Users\\armin\\Documents\\GitRepo\\uspto_patent_analysis\\data\\ipa230105 already exists. Skipping download.\n",
      "File c:\\Users\\armin\\Documents\\GitRepo\\uspto_patent_analysis\\data\\ipa230105 already exists. Skipping extract.\n"
     ]
    }
   ],
   "source": [
    "saved_patent_names = preprocess_data.parse_and_save_patents(year, month, day, False)"
   ]
  },
  {
   "cell_type": "markdown",
   "metadata": {},
   "source": [
    "## Loading data and querying sample file\n"
   ]
  },
  {
   "cell_type": "code",
   "execution_count": 61,
   "metadata": {},
   "outputs": [],
   "source": [
    "prompt = \"\"\"\n",
    "Task: Carefully review the given patent text and extract as much physical measurements information such as length/distance, mass/weight, time, temperature, Volume, area, speed, pressure, energy, power, electric current \n",
    "and voltage, frequency, force, acceleration, density, resistivity, magnetic field strength, and luminous intensity as much as possible. \n",
    "We are particularly interested in physical measurements including substance that was measured, Value of the measurement, and Unit of the measurement, and measurement type mentioned in the text. \n",
    "\n",
    "For each measurement, please provide the following details:\n",
    "- The substance that was measured. (substance)\n",
    "- The specific value or range that was measured. (Measured Value)\n",
    "- The unit of the measurement, if provided. (Unit)\n",
    "- The type of measurement being conducted (e.g., diameter, size, etc.) \n",
    "\n",
    "\n",
    "Format your response in a structured JSON-like format, as follows:\n",
    "\n",
    "{\"Content\": [\n",
    "    {\n",
    "      \"Measurement_substance\": \"substance\",\n",
    "      \"Measured_value\": \"value\",\n",
    "      \"Measured_unit\": \"unit\",\n",
    "      \"measurement_type\": \"type\"\n",
    "    },\n",
    "    // ... additional measurements, if present\n",
    "  ]\n",
    "}\n",
    "\n",
    "If multiple measurements are present in the text, each should be listed as a separate object within the \"Content\" array.\n",
    "\n",
    "Example: If the text includes the sentence, \"The resulting BaCO3 had a crystallite size of between about 20 and 40 nm\", the output should be:\n",
    "\n",
    "{\"Content\": [\n",
    "    {\n",
    "      \"Measurement_substance\": \"BaCO3\",\n",
    "      \"Measured_value\": \"between about 20 and 40\",\n",
    "      \"Measured_unit\": \"nm\",\n",
    "      \"measurement_type\": \"crystallite size\"\n",
    "    }\n",
    "  ]\n",
    "}\n",
    "\n",
    "Try to provide as complete and accurate information as possible. Print only the formatted JSON response.\n",
    "\"\"\""
   ]
  },
  {
   "cell_type": "code",
   "execution_count": 62,
   "metadata": {},
   "outputs": [],
   "source": [
    "saved_patent_names =  ['US20230001042A1-20230105.XML.txt',\n",
    "                       'US20230001385A1-20230105.XML.txt',\n",
    "                       'US20230002279A1-20230105.XML.txt',\n",
    "                       'US20230002549A1-20230105.XML.txt',\n",
    "                       'US20230002554A1-20230105.XML.txt',\n",
    "                       'US20230002555A1-20230105.XML.txt',\n",
    "                       'US20230002559A1-20230105.XML.txt'\n",
    "                       ]"
   ]
  },
  {
   "cell_type": "code",
   "execution_count": 63,
   "metadata": {},
   "outputs": [],
   "source": [
    "import json\n",
    "model_name = \"gpt-3.5-turbo\"\n",
    "gpt_3_results = {}\n",
    "total_cost_gpt3 = 0\n",
    "for i in range(len(saved_patent_names)):\n",
    "    cost, output = qaagent.call_QA_to_json(prompt, year, month, day, saved_patent_names, i, False, model_name)\n",
    "    total_cost_gpt3 += cost\n",
    "    gpt_3_results[saved_patent_names[i]] = json.loads(output)\n"
   ]
  },
  {
   "cell_type": "code",
   "execution_count": 64,
   "metadata": {},
   "outputs": [],
   "source": [
    "import json\n",
    "model_name = \"gpt-4\"\n",
    "gpt_4_results = {}\n",
    "total_cost_gpt4 = 0\n",
    "for i in range(len(saved_patent_names)):\n",
    "    cost, output = qaagent.call_QA_to_json(prompt, year, month, day, saved_patent_names, i, False, model_name)\n",
    "    total_cost_gpt4 += cost\n",
    "    gpt_4_results[saved_patent_names[i]] = json.loads(output)\n"
   ]
  },
  {
   "cell_type": "markdown",
   "metadata": {},
   "source": [
    "Results for 7 files:\n",
    "Run Time: \n",
    "- GPT-3.5: 161.4 s\n",
    "- GPT-4: 453.2 s\n",
    "\n",
    "Cost:\n",
    "- GPT-3.5: $0.023\n",
    "- GPT-4: $0.54"
   ]
  }
 ],
 "metadata": {
  "kernelspec": {
   "display_name": "Python 3",
   "language": "python",
   "name": "python3"
  },
  "language_info": {
   "codemirror_mode": {
    "name": "ipython",
    "version": 3
   },
   "file_extension": ".py",
   "mimetype": "text/x-python",
   "name": "python",
   "nbconvert_exporter": "python",
   "pygments_lexer": "ipython3",
   "version": "3.11.4"
  },
  "orig_nbformat": 4
 },
 "nbformat": 4,
 "nbformat_minor": 2
}
