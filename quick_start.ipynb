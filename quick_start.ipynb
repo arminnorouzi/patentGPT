{
 "cells": [
  {
   "cell_type": "markdown",
   "metadata": {},
   "source": [
    "# Quick Start: Analyzing Patents \n",
    "This guide walks you through the process of analyzing patents using GPT-3.5-Turbo or GPT-4.\n",
    "- You'll authenticate with OpenAI, input a specific date, preprocess patent data, analyze selected patents, and view the results including cost and output.\n"
   ]
  },
  {
   "cell_type": "markdown",
   "metadata": {},
   "source": [
    "## Installing requirements and import libraries"
   ]
  },
  {
   "cell_type": "code",
   "execution_count": 1,
   "metadata": {},
   "outputs": [],
   "source": [
    "%%capture\n",
    "# !pip install -r requirements.txt"
   ]
  },
  {
   "cell_type": "markdown",
   "metadata": {},
   "source": [
    "## Authentication"
   ]
  },
  {
   "cell_type": "code",
   "execution_count": 1,
   "metadata": {},
   "outputs": [],
   "source": [
    "import os\n",
    "from getpass import getpass\n",
    "token = getpass(\"Enter your OpenAI token: ()\")\n",
    "os.environ[\"OPENAI_API_KEY\"] = str(token)"
   ]
  },
  {
   "cell_type": "code",
   "execution_count": 9,
   "metadata": {},
   "outputs": [],
   "source": [
    "%%capture\n",
    "import sys\n",
    "sys.path.append('src')\n",
    "\n",
    "import importlib\n",
    "import main\n",
    "importlib.reload(main)\n"
   ]
  },
  {
   "cell_type": "markdown",
   "metadata": {},
   "source": [
    "## Running for specific week of data"
   ]
  },
  {
   "cell_type": "code",
   "execution_count": 10,
   "metadata": {},
   "outputs": [
    {
     "name": "stdout",
     "output_type": "stream",
     "text": [
      "Starting the patent analysis process...\n",
      "Year: 2023\n",
      "Month: 1\n",
      "Day: 12\n",
      "Processing patents...\n",
      "File c:\\Users\\armin\\Documents\\GitRepo\\uspto_patent_analysis\\data\\ipa230112 already exists. Skipping download.\n",
      "File c:\\Users\\armin\\Documents\\GitRepo\\uspto_patent_analysis\\data\\ipa230112 already exists. Skipping extract.\n",
      "Loading documents from: c:\\Users\\armin\\Documents\\GitRepo\\uspto_patent_analysis\\data\\ipa230112\\US20230008908A1-20230112.XML.txt\n",
      "Generating embeddings and persisting...\n",
      "Running retrieval chain...\n",
      "Total Tokens: 4097\n",
      "Prompt Tokens: 1201\n",
      "Completion Tokens: 2896\n",
      "Successful Requests: 1\n",
      "Total Cost (USD): $0.0075935\n",
      "An error occurred while processing the output.\n",
      "Error message: Unterminated string starting at: line 435 column 32 (char 10619)\n",
      "Loading documents from: c:\\Users\\armin\\Documents\\GitRepo\\uspto_patent_analysis\\data\\ipa230112\\US20230010709A1-20230112.XML.txt\n",
      "Generating embeddings and persisting...\n",
      "Running retrieval chain...\n",
      "Total Tokens: 2340\n",
      "Prompt Tokens: 1319\n",
      "Completion Tokens: 1021\n",
      "Successful Requests: 1\n",
      "Total Cost (USD): $0.0040205\n",
      "Writing the output to a file...\n",
      "Call to 'call_QA_to_json' completed.\n",
      "Loading documents from: c:\\Users\\armin\\Documents\\GitRepo\\uspto_patent_analysis\\data\\ipa230112\\US20230008992A1-20230112.XML.txt\n",
      "Generating embeddings and persisting...\n",
      "Running retrieval chain...\n",
      "Total Tokens: 1619\n",
      "Prompt Tokens: 1223\n",
      "Completion Tokens: 396\n",
      "Successful Requests: 1\n",
      "Total Cost (USD): $0.0026265000000000004\n",
      "Writing the output to a file...\n",
      "Call to 'call_QA_to_json' completed.\n",
      "Patent analysis process completed successfully.\n",
      "\n",
      "Results for GPT-3.5 Turbo:\n",
      "Number of patents analyzed: 3\n",
      "Total cost for analyzing all patents: 0.0142405\n",
      "Average cost per patent: 0.004746833333333333\n"
     ]
    }
   ],
   "source": [
    "if __name__ == \"__main__\":\n",
    "    main.main()"
   ]
  },
  {
   "cell_type": "code",
   "execution_count": null,
   "metadata": {},
   "outputs": [],
   "source": []
  }
 ],
 "metadata": {
  "kernelspec": {
   "display_name": "Python 3",
   "language": "python",
   "name": "python3"
  },
  "language_info": {
   "codemirror_mode": {
    "name": "ipython",
    "version": 3
   },
   "file_extension": ".py",
   "mimetype": "text/x-python",
   "name": "python",
   "nbconvert_exporter": "python",
   "pygments_lexer": "ipython3",
   "version": "3.11.4"
  },
  "orig_nbformat": 4
 },
 "nbformat": 4,
 "nbformat_minor": 2
}
