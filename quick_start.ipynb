{
  "cells": [
    {
      "cell_type": "markdown",
      "metadata": {
        "id": "_w6MVkqs75lg"
      },
      "source": [
        "# Quick Start: Analyzing Patents\n",
        "This guide walks you through the process of analyzing patents using GPT-3.5-Turbo or GPT-4.\n",
        "- You'll authenticate with OpenAI, input a specific date, preprocess patent data, analyze selected patents, and view the results including cost and output.\n",
        "\n",
        "Click here to open this notebook in Google colab:\n",
        "\n",
        "<a href=\"https://colab.research.google.com/github/arminnorouzi/patentGPT/blob/main/quick_start.ipynb\" target=\"_parent\"><img src=\"https://colab.research.google.com/assets/colab-badge.svg\" alt=\"Open In Colab\"/></a>"
      ]
    },
    {
      "cell_type": "markdown",
      "metadata": {
        "id": "nWlqOL5B75lj"
      },
      "source": [
        "## Installing"
      ]
    },
    {
      "cell_type": "code",
      "execution_count": 1,
      "metadata": {
        "id": "qXMhKED575lk"
      },
      "outputs": [],
      "source": [
        "%%capture\n",
        "!pip install patentgpt-extract"
      ]
    },
    {
      "cell_type": "markdown",
      "metadata": {
        "id": "RHz6Pqhe75ll"
      },
      "source": [
        "## Authentication"
      ]
    },
    {
      "cell_type": "code",
      "execution_count": 2,
      "metadata": {
        "colab": {
          "base_uri": "https://localhost:8080/"
        },
        "id": "FJp0HVGi75ll",
        "outputId": "29a769ab-ef44-422b-eeaa-9534e9e1931b"
      },
      "outputs": [
        {
          "name": "stdout",
          "output_type": "stream",
          "text": [
            "Enter your OpenAI token: ()··········\n"
          ]
        }
      ],
      "source": [
        "import os\n",
        "from getpass import getpass\n",
        "token = getpass(\"Enter your OpenAI token: ()\")\n",
        "os.environ[\"OPENAI_API_KEY\"] = str(token)"
      ]
    },
    {
      "cell_type": "markdown",
      "metadata": {
        "id": "Xlmf86dQ75ll"
      },
      "source": [
        "## Importing and Running for specific week of data"
      ]
    },
    {
      "cell_type": "code",
      "execution_count": 3,
      "metadata": {
        "id": "KWpLilBMbxT9"
      },
      "outputs": [],
      "source": [
        "from patentgpt.main import main"
      ]
    },
    {
      "cell_type": "code",
      "execution_count": 4,
      "metadata": {
        "colab": {
          "base_uri": "https://localhost:8080/"
        },
        "id": "GJ5YSnK375lm",
        "outputId": "c9ad8cec-d15f-41da-c341-e4d89da55ee5"
      },
      "outputs": [
        {
          "output_type": "stream",
          "name": "stdout",
          "text": [
            "Starting the patent analysis process...\n",
            "Enter a date in the format 'YYYY-MM-DD': 2023-01-05\n",
            "Year: 2023\n",
            "Month: 1\n",
            "Day: 5\n",
            "Enter the number of patents you want to analyze: 4\n",
            "Do you want to log the results? (yes/no): no\n",
            "Select a model for analysis: 1. gpt-3.5-turbo 2. gpt-41\n",
            "Processing patents...\n",
            "Patent analysis process completed successfully.\n",
            "\n",
            "Results for GPT-3.5 Turbo:\n",
            "Number of patents analyzed: 4\n",
            "Total cost for analyzing all patents: 0.015108\n",
            "Average cost per patent: 0.003777\n"
          ]
        }
      ],
      "source": [
        "main()"
      ]
    },
    {
      "cell_type": "code",
      "execution_count": 4,
      "metadata": {
        "id": "14Tb6zH075lm"
      },
      "outputs": [],
      "source": []
    }
  ],
  "metadata": {
    "colab": {
      "provenance": []
    },
    "kernelspec": {
      "display_name": "Python 3",
      "language": "python",
      "name": "python3"
    },
    "language_info": {
      "codemirror_mode": {
        "name": "ipython",
        "version": 3
      },
      "file_extension": ".py",
      "mimetype": "text/x-python",
      "name": "python",
      "nbconvert_exporter": "python",
      "pygments_lexer": "ipython3",
      "version": "3.11.4"
    }
  },
  "nbformat": 4,
  "nbformat_minor": 0
}