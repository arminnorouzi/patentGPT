{
 "cells": [
  {
   "cell_type": "markdown",
   "metadata": {},
   "source": [
    "# Quick Start: Analyzing Patents \n",
    "This guide walks you through the process of analyzing patents using GPT-3.5-Turbo or GPT-4.\n",
    "- You'll authenticate with OpenAI, input a specific date, preprocess patent data, analyze selected patents, and view the results including cost and output.\n"
   ]
  },
  {
   "cell_type": "markdown",
   "metadata": {},
   "source": [
    "## Installing requirements and import libraries"
   ]
  },
  {
   "cell_type": "code",
   "execution_count": 1,
   "metadata": {},
   "outputs": [],
   "source": [
    "%%capture\n",
    "# !pip install -r requirements.txt"
   ]
  },
  {
   "cell_type": "markdown",
   "metadata": {},
   "source": [
    "## Authentication"
   ]
  },
  {
   "cell_type": "code",
   "execution_count": 1,
   "metadata": {},
   "outputs": [],
   "source": [
    "import os\n",
    "from getpass import getpass\n",
    "token = getpass(\"Enter your OpenAI token: ()\")\n",
    "os.environ[\"OPENAI_API_KEY\"] = str(token)"
   ]
  },
  {
   "cell_type": "code",
   "execution_count": 5,
   "metadata": {},
   "outputs": [],
   "source": [
    "%%capture\n",
    "import sys\n",
    "sys.path.append('src')\n",
    "\n",
    "import importlib\n",
    "import main\n",
    "importlib.reload(main)\n"
   ]
  },
  {
   "cell_type": "markdown",
   "metadata": {},
   "source": [
    "## Running for specific week of data"
   ]
  },
  {
   "cell_type": "code",
   "execution_count": 6,
   "metadata": {},
   "outputs": [
    {
     "name": "stdout",
     "output_type": "stream",
     "text": [
      "Starting the patent analysis process...\n",
      "Year: 2023\n",
      "Month: 1\n",
      "Day: 12\n",
      "Processing patents...\n",
      "File c:\\Users\\armin\\Documents\\GitRepo\\uspto_patent_analysis\\data\\ipa230112 already exists. Skipping download.\n",
      "File c:\\Users\\armin\\Documents\\GitRepo\\uspto_patent_analysis\\data\\ipa230112 already exists. Skipping extract.\n",
      "Loading documents from: c:\\Users\\armin\\Documents\\GitRepo\\uspto_patent_analysis\\data\\ipa230112\\US20230009967A1-20230112.XML.txt\n",
      "Generating embeddings and persisting...\n",
      "Running retrieval chain...\n",
      "Total Tokens: 1703\n",
      "Prompt Tokens: 1168\n",
      "Completion Tokens: 535\n",
      "Successful Requests: 1\n",
      "Total Cost (USD): $0.002822\n",
      "Writing the output to a file...\n",
      "Call to 'call_QA_to_json' completed.\n",
      "Loading documents from: c:\\Users\\armin\\Documents\\GitRepo\\uspto_patent_analysis\\data\\ipa230112\\US20230009551A1-20230112.XML.txt\n",
      "Generating embeddings and persisting...\n",
      "Running retrieval chain...\n",
      "Total Tokens: 1843\n",
      "Prompt Tokens: 1377\n",
      "Completion Tokens: 466\n",
      "Successful Requests: 1\n",
      "Total Cost (USD): $0.0029975\n",
      "Writing the output to a file...\n",
      "Call to 'call_QA_to_json' completed.\n",
      "Loading documents from: c:\\Users\\armin\\Documents\\GitRepo\\uspto_patent_analysis\\data\\ipa230112\\US20230009085A1-20230112.XML.txt\n",
      "Generating embeddings and persisting...\n",
      "Running retrieval chain...\n",
      "Total Tokens: 1684\n",
      "Prompt Tokens: 1357\n",
      "Completion Tokens: 327\n",
      "Successful Requests: 1\n",
      "Total Cost (USD): $0.0026895\n",
      "Writing the output to a file...\n",
      "Call to 'call_QA_to_json' completed.\n",
      "Patent analysis process completed successfully.\n",
      "\n",
      "Results for GPT-3.5 Turbo:\n",
      "Number of patents analyzed: 3\n",
      "Total cost for analyzing all patents: 0.008509\n",
      "Average cost per patent: 0.002836333333333333\n"
     ]
    }
   ],
   "source": [
    "if __name__ == \"__main__\":\n",
    "    main.main()"
   ]
  },
  {
   "cell_type": "code",
   "execution_count": null,
   "metadata": {},
   "outputs": [],
   "source": []
  }
 ],
 "metadata": {
  "kernelspec": {
   "display_name": "Python 3",
   "language": "python",
   "name": "python3"
  },
  "language_info": {
   "codemirror_mode": {
    "name": "ipython",
    "version": 3
   },
   "file_extension": ".py",
   "mimetype": "text/x-python",
   "name": "python",
   "nbconvert_exporter": "python",
   "pygments_lexer": "ipython3",
   "version": "3.11.4"
  },
  "orig_nbformat": 4
 },
 "nbformat": 4,
 "nbformat_minor": 2
}
