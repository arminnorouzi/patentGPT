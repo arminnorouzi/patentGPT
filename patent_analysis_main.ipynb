{
 "cells": [
  {
   "cell_type": "markdown",
   "metadata": {},
   "source": [
    "# Patent Analysis"
   ]
  },
  {
   "cell_type": "code",
   "execution_count": 1,
   "metadata": {},
   "outputs": [],
   "source": [
    "%%capture\n",
    "# !pip install -r requirements.txt\n"
   ]
  },
  {
   "cell_type": "markdown",
   "metadata": {},
   "source": [
    "## Importing Libraries"
   ]
  },
  {
   "cell_type": "code",
   "execution_count": 3,
   "metadata": {},
   "outputs": [],
   "source": [
    "%%capture\n",
    "import sys\n",
    "import importlib\n",
    "sys.path.append('src')\n",
    "\n",
    "\n",
    "import preprocess_data\n",
    "import qaagent\n",
    "import koragent\n",
    "\n",
    "importlib.reload(preprocess_data)\n",
    "importlib.reload(qaagent)\n",
    "importlib.reload(koragent)\n"
   ]
  },
  {
   "cell_type": "code",
   "execution_count": 4,
   "metadata": {},
   "outputs": [
    {
     "data": {
      "text/plain": [
       "True"
      ]
     },
     "execution_count": 4,
     "metadata": {},
     "output_type": "execute_result"
    }
   ],
   "source": [
    "\n",
    "import nltk\n",
    "nltk.download('all', quiet=True)"
   ]
  },
  {
   "cell_type": "markdown",
   "metadata": {},
   "source": [
    "## Downloading patents and preprocessing"
   ]
  },
  {
   "cell_type": "code",
   "execution_count": 5,
   "metadata": {},
   "outputs": [],
   "source": [
    "year = 2023\n",
    "month = 1\n",
    "day = 5"
   ]
  },
  {
   "cell_type": "code",
   "execution_count": 6,
   "metadata": {},
   "outputs": [],
   "source": [
    "saved_patent_names = preprocess_data.parse_and_save_patents(year, month, day, False)"
   ]
  },
  {
   "cell_type": "markdown",
   "metadata": {},
   "source": [
    "## Loading data and querying sample file\n"
   ]
  },
  {
   "cell_type": "code",
   "execution_count": 16,
   "metadata": {},
   "outputs": [],
   "source": [
    "from kor.nodes import Object, Text\n",
    "\n",
    "schema = Object(\n",
    "    id=\"physical_measurements\",\n",
    "    description=\"Details about a physical measurements in text\",\n",
    "    attributes=[\n",
    "        Text(\n",
    "            id=\"substance\",\n",
    "            description=\"Substance that was measured\",\n",
    "            examples=[\n",
    "                (\"The resulting BaCO3 had a crystallite size of between about 20 and 40 nm\", \"BaCO3\"),\n",
    "                (\"Mesoporous silicon dioxide nanoparticles with an average pore diameter between 5 nm  and 15 nm\", \"Mesoporous silicon dioxide nanoparticles\")\n",
    "            ],\n",
    "        ),\n",
    "        Text(\n",
    "            id=\"value\",\n",
    "            description=\"Value of the measurement\",\n",
    "            examples=[\n",
    "                (\"The resulting BaCO3 had a crystallite size of between about 20 and 40 nm\", \"between 20 and 40\"),\n",
    "                (\"Mesoporous silicon dioxide nanoparticles with an average pore diameter between 5 nm  and 15 nm\", \"between 5 and 15\")\n",
    "            ],\n",
    "        ),\n",
    "        Text(\n",
    "            id=\"unit\",\n",
    "            description=\"Unit of the measurement\",\n",
    "            examples=[\n",
    "                (\"The resulting BaCO3 had a crystallite size of between about 20 and 40 nm\", \"nm\"),\n",
    "                (\"Mesoporous silicon dioxide nanoparticles with an average pore diameter between 5 nm  and 15 nm\", \"nm\")\n",
    "            ],\n",
    "        ),\n",
    "    ],\n",
    "    examples=[\n",
    "        (\n",
    "            \"The material for the support can be mesoporous silicon dioxide nanoparticles with an average pore diameter between 5 nm  and 15 nm\",\n",
    "            [\n",
    "                {\"substance\": \"mesoporous silicon dioxide nanoparticles\", \"measurement_value\": \"between 5 and 15\", \"unit\": \"nm\"}\n",
    "            ],\n",
    "        ),\n",
    "        (\n",
    "            \"The resulting BaCO3 had a crystallite size of between about 20 and 40 nm\",\n",
    "            [\n",
    "                {\"substance\": \"BaCO3\", \"measurement_value\": \"between 20 and 40\", \"unit\": \"nm\"}\n",
    "            ],\n",
    "        )\n",
    "    ],\n",
    "    many=True,\n",
    ")\n",
    "\n",
    "schema = Object(\n",
    "    id=\"physical_measurements\",\n",
    "    description=\"Details about physical measurements in text\",\n",
    "    attributes=[\n",
    "        Text(\n",
    "            id=\"substance\",\n",
    "            description=\"Substance that was measured\",\n",
    "            examples=[\n",
    "                (\"The resulting BaCO3 had a crystallite size of between about 20 and 40 nm\", \"BaCO3\"),\n",
    "                (\"Mesoporous silicon dioxide nanoparticles with an average pore diameter between 5 nm  and 15 nm\", \"Mesoporous silicon dioxide nanoparticles\")\n",
    "            ],\n",
    "        ),\n",
    "        Text(\n",
    "            id=\"measurement_type\",\n",
    "            description=\"The type of measurement being conducted (e.g., diameter, size, etc.)\",\n",
    "            examples=[\n",
    "                (\"The resulting BaCO3 had a crystallite size of between about 20 and 40 nm\", \"crystallite size\"),\n",
    "                (\"Mesoporous silicon dioxide nanoparticles with an average pore diameter between 5 nm  and 15 nm\", \"pore diameter\"),\n",
    "            ],\n",
    "        ),\n",
    "        Text(\n",
    "            id=\"value\",\n",
    "            description=\"Value of the measurement\",\n",
    "            examples=[\n",
    "                (\"The resulting BaCO3 had a crystallite size of between about 20 and 40 nm\", \"between 20 and 40\"),\n",
    "                (\"Mesoporous silicon dioxide nanoparticles with an average pore diameter between 5 nm  and 15 nm\", \"between 5 and 15\")\n",
    "            ],\n",
    "        ),\n",
    "        Text(\n",
    "            id=\"unit\",\n",
    "            description=\"Unit of the measurement\",\n",
    "            examples=[\n",
    "                (\"The resulting BaCO3 had a crystallite size of between about 20 and 40 nm\", \"nm\"),\n",
    "                (\"Mesoporous silicon dioxide nanoparticles with an average pore diameter between 5 nm  and 15 nm\", \"nm\")\n",
    "            ],\n",
    "        ),\n",
    "    ],\n",
    "    examples=[\n",
    "        (\n",
    "            \"The material for the support can be mesoporous silicon dioxide nanoparticles with an average pore diameter between 5 nm  and 15 nm\",\n",
    "            [\n",
    "                {\"substance\": \"mesoporous silicon dioxide nanoparticles\", \"measurement_type\": \"pore diameter\", \"value\": \"between 5 and 15\", \"unit\": \"nm\"}\n",
    "            ],\n",
    "        ),\n",
    "        (\n",
    "            \"The resulting BaCO3 had a crystallite size of between about 20 and 40 nm\",\n",
    "            [\n",
    "                {\"substance\": \"BaCO3\", \"measurement_type\": \"crystallite size\", \"value\": \"between 20 and 40\", \"unit\": \"nm\"}\n",
    "            ],\n",
    "        )\n",
    "    ],\n",
    "    many=True,\n",
    ")\n"
   ]
  },
  {
   "cell_type": "code",
   "execution_count": 13,
   "metadata": {},
   "outputs": [
    {
     "ename": "JSONDecodeError",
     "evalue": "Expecting value: line 8 column 9 (char 1064)",
     "output_type": "error",
     "traceback": [
      "\u001b[1;31m---------------------------------------------------------------------------\u001b[0m",
      "\u001b[1;31mJSONDecodeError\u001b[0m                           Traceback (most recent call last)",
      "Cell \u001b[1;32mIn[13], line 24\u001b[0m\n\u001b[0;32m     21\u001b[0m \u001b[39m# Opening the JSON file\u001b[39;00m\n\u001b[0;32m     22\u001b[0m \u001b[39mwith\u001b[39;00m \u001b[39mopen\u001b[39m(file_path, \u001b[39m'\u001b[39m\u001b[39mr\u001b[39m\u001b[39m'\u001b[39m) \u001b[39mas\u001b[39;00m file:\n\u001b[0;32m     23\u001b[0m     \u001b[39m# Loading the JSON data from the file\u001b[39;00m\n\u001b[1;32m---> 24\u001b[0m     data \u001b[39m=\u001b[39m json\u001b[39m.\u001b[39;49mload(file)\n\u001b[0;32m     26\u001b[0m     \u001b[39m# Adding the JSON data to the dictionary\u001b[39;00m\n\u001b[0;32m     27\u001b[0m     \u001b[39m# The key is the file name split at the first \"-\" and taking the first part\u001b[39;00m\n\u001b[0;32m     28\u001b[0m     key_name \u001b[39m=\u001b[39m file_name\u001b[39m.\u001b[39msplit(\u001b[39m'\u001b[39m\u001b[39m-\u001b[39m\u001b[39m'\u001b[39m)[\u001b[39m0\u001b[39m]\n",
      "File \u001b[1;32mc:\\Users\\armin\\Documents\\GitRepo\\uspto_patent_analysis\\.conda\\Lib\\json\\__init__.py:293\u001b[0m, in \u001b[0;36mload\u001b[1;34m(fp, cls, object_hook, parse_float, parse_int, parse_constant, object_pairs_hook, **kw)\u001b[0m\n\u001b[0;32m    274\u001b[0m \u001b[39mdef\u001b[39;00m \u001b[39mload\u001b[39m(fp, \u001b[39m*\u001b[39m, \u001b[39mcls\u001b[39m\u001b[39m=\u001b[39m\u001b[39mNone\u001b[39;00m, object_hook\u001b[39m=\u001b[39m\u001b[39mNone\u001b[39;00m, parse_float\u001b[39m=\u001b[39m\u001b[39mNone\u001b[39;00m,\n\u001b[0;32m    275\u001b[0m         parse_int\u001b[39m=\u001b[39m\u001b[39mNone\u001b[39;00m, parse_constant\u001b[39m=\u001b[39m\u001b[39mNone\u001b[39;00m, object_pairs_hook\u001b[39m=\u001b[39m\u001b[39mNone\u001b[39;00m, \u001b[39m*\u001b[39m\u001b[39m*\u001b[39mkw):\n\u001b[0;32m    276\u001b[0m \u001b[39m    \u001b[39m\u001b[39m\"\"\"Deserialize ``fp`` (a ``.read()``-supporting file-like object containing\u001b[39;00m\n\u001b[0;32m    277\u001b[0m \u001b[39m    a JSON document) to a Python object.\u001b[39;00m\n\u001b[0;32m    278\u001b[0m \n\u001b[1;32m   (...)\u001b[0m\n\u001b[0;32m    291\u001b[0m \u001b[39m    kwarg; otherwise ``JSONDecoder`` is used.\u001b[39;00m\n\u001b[0;32m    292\u001b[0m \u001b[39m    \"\"\"\u001b[39;00m\n\u001b[1;32m--> 293\u001b[0m     \u001b[39mreturn\u001b[39;00m loads(fp\u001b[39m.\u001b[39;49mread(),\n\u001b[0;32m    294\u001b[0m         \u001b[39mcls\u001b[39;49m\u001b[39m=\u001b[39;49m\u001b[39mcls\u001b[39;49m, object_hook\u001b[39m=\u001b[39;49mobject_hook,\n\u001b[0;32m    295\u001b[0m         parse_float\u001b[39m=\u001b[39;49mparse_float, parse_int\u001b[39m=\u001b[39;49mparse_int,\n\u001b[0;32m    296\u001b[0m         parse_constant\u001b[39m=\u001b[39;49mparse_constant, object_pairs_hook\u001b[39m=\u001b[39;49mobject_pairs_hook, \u001b[39m*\u001b[39;49m\u001b[39m*\u001b[39;49mkw)\n",
      "File \u001b[1;32mc:\\Users\\armin\\Documents\\GitRepo\\uspto_patent_analysis\\.conda\\Lib\\json\\__init__.py:346\u001b[0m, in \u001b[0;36mloads\u001b[1;34m(s, cls, object_hook, parse_float, parse_int, parse_constant, object_pairs_hook, **kw)\u001b[0m\n\u001b[0;32m    341\u001b[0m     s \u001b[39m=\u001b[39m s\u001b[39m.\u001b[39mdecode(detect_encoding(s), \u001b[39m'\u001b[39m\u001b[39msurrogatepass\u001b[39m\u001b[39m'\u001b[39m)\n\u001b[0;32m    343\u001b[0m \u001b[39mif\u001b[39;00m (\u001b[39mcls\u001b[39m \u001b[39mis\u001b[39;00m \u001b[39mNone\u001b[39;00m \u001b[39mand\u001b[39;00m object_hook \u001b[39mis\u001b[39;00m \u001b[39mNone\u001b[39;00m \u001b[39mand\u001b[39;00m\n\u001b[0;32m    344\u001b[0m         parse_int \u001b[39mis\u001b[39;00m \u001b[39mNone\u001b[39;00m \u001b[39mand\u001b[39;00m parse_float \u001b[39mis\u001b[39;00m \u001b[39mNone\u001b[39;00m \u001b[39mand\u001b[39;00m\n\u001b[0;32m    345\u001b[0m         parse_constant \u001b[39mis\u001b[39;00m \u001b[39mNone\u001b[39;00m \u001b[39mand\u001b[39;00m object_pairs_hook \u001b[39mis\u001b[39;00m \u001b[39mNone\u001b[39;00m \u001b[39mand\u001b[39;00m \u001b[39mnot\u001b[39;00m kw):\n\u001b[1;32m--> 346\u001b[0m     \u001b[39mreturn\u001b[39;00m _default_decoder\u001b[39m.\u001b[39;49mdecode(s)\n\u001b[0;32m    347\u001b[0m \u001b[39mif\u001b[39;00m \u001b[39mcls\u001b[39m \u001b[39mis\u001b[39;00m \u001b[39mNone\u001b[39;00m:\n\u001b[0;32m    348\u001b[0m     \u001b[39mcls\u001b[39m \u001b[39m=\u001b[39m JSONDecoder\n",
      "File \u001b[1;32mc:\\Users\\armin\\Documents\\GitRepo\\uspto_patent_analysis\\.conda\\Lib\\json\\decoder.py:337\u001b[0m, in \u001b[0;36mJSONDecoder.decode\u001b[1;34m(self, s, _w)\u001b[0m\n\u001b[0;32m    332\u001b[0m \u001b[39mdef\u001b[39;00m \u001b[39mdecode\u001b[39m(\u001b[39mself\u001b[39m, s, _w\u001b[39m=\u001b[39mWHITESPACE\u001b[39m.\u001b[39mmatch):\n\u001b[0;32m    333\u001b[0m \u001b[39m    \u001b[39m\u001b[39m\"\"\"Return the Python representation of ``s`` (a ``str`` instance\u001b[39;00m\n\u001b[0;32m    334\u001b[0m \u001b[39m    containing a JSON document).\u001b[39;00m\n\u001b[0;32m    335\u001b[0m \n\u001b[0;32m    336\u001b[0m \u001b[39m    \"\"\"\u001b[39;00m\n\u001b[1;32m--> 337\u001b[0m     obj, end \u001b[39m=\u001b[39m \u001b[39mself\u001b[39;49m\u001b[39m.\u001b[39;49mraw_decode(s, idx\u001b[39m=\u001b[39;49m_w(s, \u001b[39m0\u001b[39;49m)\u001b[39m.\u001b[39;49mend())\n\u001b[0;32m    338\u001b[0m     end \u001b[39m=\u001b[39m _w(s, end)\u001b[39m.\u001b[39mend()\n\u001b[0;32m    339\u001b[0m     \u001b[39mif\u001b[39;00m end \u001b[39m!=\u001b[39m \u001b[39mlen\u001b[39m(s):\n",
      "File \u001b[1;32mc:\\Users\\armin\\Documents\\GitRepo\\uspto_patent_analysis\\.conda\\Lib\\json\\decoder.py:355\u001b[0m, in \u001b[0;36mJSONDecoder.raw_decode\u001b[1;34m(self, s, idx)\u001b[0m\n\u001b[0;32m    353\u001b[0m     obj, end \u001b[39m=\u001b[39m \u001b[39mself\u001b[39m\u001b[39m.\u001b[39mscan_once(s, idx)\n\u001b[0;32m    354\u001b[0m \u001b[39mexcept\u001b[39;00m \u001b[39mStopIteration\u001b[39;00m \u001b[39mas\u001b[39;00m err:\n\u001b[1;32m--> 355\u001b[0m     \u001b[39mraise\u001b[39;00m JSONDecodeError(\u001b[39m\"\u001b[39m\u001b[39mExpecting value\u001b[39m\u001b[39m\"\u001b[39m, s, err\u001b[39m.\u001b[39mvalue) \u001b[39mfrom\u001b[39;00m \u001b[39mNone\u001b[39;00m\n\u001b[0;32m    356\u001b[0m \u001b[39mreturn\u001b[39;00m obj, end\n",
      "\u001b[1;31mJSONDecodeError\u001b[0m: Expecting value: line 8 column 9 (char 1064)"
     ]
    }
   ],
   "source": [
    "import json\n",
    "import os\n",
    "\n",
    "# Creating an empty dictionary to store the JSON data\n",
    "json_files = {}\n",
    "\n",
    "# Specifying the path to the JSON files\n",
    "folder_path = os.path.join(\n",
    "        os.getcwd(),\n",
    "        \"output\"\n",
    "    )\n",
    "\n",
    "\n",
    "# Iterating through every file in the directory\n",
    "for file_name in os.listdir(folder_path):\n",
    "    # Checking if the current file is a JSON file\n",
    "    if file_name.endswith('.json'):\n",
    "        # Defining the path to the file\n",
    "        file_path = os.path.join(folder_path, file_name)\n",
    "\n",
    "        # Opening the JSON file\n",
    "        with open(file_path, 'r') as file:\n",
    "            # Loading the JSON data from the file\n",
    "            data = json.load(file)\n",
    "\n",
    "            # Adding the JSON data to the dictionary\n",
    "            # The key is the file name split at the first \"-\" and taking the first part\n",
    "            key_name = file_name.split('-')[0]\n",
    "            json_files[key_name] = data\n",
    "\n",
    "\n",
    "# Printing the dictionary to check if the data was loaded correctly\n",
    "poc = []\n",
    "for key in json_files:\n",
    "    poc.append(key)\n",
    "\n"
   ]
  },
  {
   "cell_type": "code",
   "execution_count": 14,
   "metadata": {},
   "outputs": [],
   "source": [
    "indices = []\n",
    "for poc_item in poc:\n",
    "    for i, patent_path in enumerate(saved_patent_names):\n",
    "        if poc_item in patent_path:\n",
    "            indices.append(i)"
   ]
  },
  {
   "cell_type": "code",
   "execution_count": 22,
   "metadata": {},
   "outputs": [
    {
     "name": "stdout",
     "output_type": "stream",
     "text": [
      "Starting the extraction process...\n",
      "Loading documents from: c:\\Users\\armin\\Documents\\GitRepo\\uspto_patent_analysis\\data\\ipa230105\\US20230001042A1-20230105.XML.txt\n",
      "Running extraction chain...\n"
     ]
    },
    {
     "name": "stderr",
     "output_type": "stream",
     "text": [
      "Retrying langchain.chat_models.openai.acompletion_with_retry.<locals>._completion_with_retry in 4.0 seconds as it raised APIError: Bad gateway. {\"error\":{\"code\":502,\"message\":\"Bad gateway.\",\"param\":null,\"type\":\"cf_bad_gateway\"}} 502 {'error': {'code': 502, 'message': 'Bad gateway.', 'param': None, 'type': 'cf_bad_gateway'}} <CIMultiDictProxy('Date': 'Tue, 01 Aug 2023 01:32:55 GMT', 'Content-Type': 'application/json', 'Content-Length': '84', 'Connection': 'keep-alive', 'X-Frame-Options': 'SAMEORIGIN', 'Referrer-Policy': 'same-origin', 'Cache-Control': 'private, max-age=0, no-store, no-cache, must-revalidate, post-check=0, pre-check=0', 'Expires': 'Thu, 01 Jan 1970 00:00:01 GMT', 'Server': 'cloudflare', 'CF-RAY': '7efa4ce64d6ba1e0-YYZ', 'alt-svc': 'h3=\":443\"; ma=86400')>.\n",
      "c:\\Users\\armin\\Documents\\GitRepo\\uspto_patent_analysis\\.conda\\Lib\\site-packages\\tenacity\\__init__.py:338: RuntimeWarning: coroutine 'AsyncRunManager.on_retry' was never awaited\n",
      "  self.before_sleep(retry_state)\n",
      "RuntimeWarning: Enable tracemalloc to get the object allocation traceback\n"
     ]
    },
    {
     "name": "stdout",
     "output_type": "stream",
     "text": [
      "Total Tokens: 32615\n",
      "Prompt Tokens: 27962\n",
      "Completion Tokens: 4653\n",
      "Successful Requests: 32\n",
      "Total Cost (USD): $0.051249\n",
      "{'uid': '0', 'source_uid': '0', 'data': {}, 'raw': 'substance|measurement_type|value|unit\\n|||\\nmeasurement_type|value|unit\\nsuture thread|curled||\\nresin materials|improving operability||\\nresin materials|slidability||\\nresin materials|slide-down performance||\\nMPC|enhance easiness||\\nMPC|retainability||\\nsuture thread|coated with|MPC||\\npackaging|||', 'validated_data': {}, 'errors': [ParseError(ParserError('Error tokenizing data. C error: Expected 4 fields in line 10, saw 5\\n'))]}\n",
      "Writing the output to a file...\n"
     ]
    },
    {
     "ename": "TypeError",
     "evalue": "Object of type ParseError is not JSON serializable",
     "output_type": "error",
     "traceback": [
      "\u001b[1;31m---------------------------------------------------------------------------\u001b[0m",
      "\u001b[1;31mTypeError\u001b[0m                                 Traceback (most recent call last)",
      "Cell \u001b[1;32mIn[22], line 2\u001b[0m\n\u001b[0;32m      1\u001b[0m importlib\u001b[39m.\u001b[39mreload(koragent)\n\u001b[1;32m----> 2\u001b[0m raw, output \u001b[39m=\u001b[39m \u001b[39mawait\u001b[39;00m koragent\u001b[39m.\u001b[39mcall_extraction_to_json(schema, year, month, day, saved_patent_names, \u001b[39m96\u001b[39m, \u001b[39mTrue\u001b[39;00m, \u001b[39m\"\u001b[39m\u001b[39mgpt-3.5-turbo\u001b[39m\u001b[39m\"\u001b[39m)\n",
      "File \u001b[1;32mc:\\Users\\armin\\Documents\\GitRepo\\uspto_patent_analysis\\src\\koragent.py:123\u001b[0m, in \u001b[0;36mcall_extraction_to_json\u001b[1;34m(schema, year, month, day, saved_patent_names, count, logging, model_name)\u001b[0m\n\u001b[0;32m    121\u001b[0m \u001b[39m# Write the output to a file in the 'output' directory\u001b[39;00m\n\u001b[0;32m    122\u001b[0m \u001b[39mwith\u001b[39;00m \u001b[39mopen\u001b[39m(\u001b[39mf\u001b[39m\u001b[39m\"\u001b[39m\u001b[39moutput/\u001b[39m\u001b[39m{\u001b[39;00msaved_patent_names[count]\u001b[39m}\u001b[39;00m\u001b[39m.json\u001b[39m\u001b[39m\"\u001b[39m, \u001b[39m\"\u001b[39m\u001b[39mw\u001b[39m\u001b[39m\"\u001b[39m) \u001b[39mas\u001b[39;00m json_file:\n\u001b[1;32m--> 123\u001b[0m     json\u001b[39m.\u001b[39;49mdump(output_dict, json_file, indent\u001b[39m=\u001b[39;49m\u001b[39m4\u001b[39;49m)\n\u001b[0;32m    125\u001b[0m \u001b[39mif\u001b[39;00m logging:\n\u001b[0;32m    126\u001b[0m     \u001b[39mprint\u001b[39m(\u001b[39m\"\u001b[39m\u001b[39mCall to \u001b[39m\u001b[39m'\u001b[39m\u001b[39mcall_extraction_to_json\u001b[39m\u001b[39m'\u001b[39m\u001b[39m completed.\u001b[39m\u001b[39m\"\u001b[39m)\n",
      "File \u001b[1;32mc:\\Users\\armin\\Documents\\GitRepo\\uspto_patent_analysis\\.conda\\Lib\\json\\__init__.py:179\u001b[0m, in \u001b[0;36mdump\u001b[1;34m(obj, fp, skipkeys, ensure_ascii, check_circular, allow_nan, cls, indent, separators, default, sort_keys, **kw)\u001b[0m\n\u001b[0;32m    173\u001b[0m     iterable \u001b[39m=\u001b[39m \u001b[39mcls\u001b[39m(skipkeys\u001b[39m=\u001b[39mskipkeys, ensure_ascii\u001b[39m=\u001b[39mensure_ascii,\n\u001b[0;32m    174\u001b[0m         check_circular\u001b[39m=\u001b[39mcheck_circular, allow_nan\u001b[39m=\u001b[39mallow_nan, indent\u001b[39m=\u001b[39mindent,\n\u001b[0;32m    175\u001b[0m         separators\u001b[39m=\u001b[39mseparators,\n\u001b[0;32m    176\u001b[0m         default\u001b[39m=\u001b[39mdefault, sort_keys\u001b[39m=\u001b[39msort_keys, \u001b[39m*\u001b[39m\u001b[39m*\u001b[39mkw)\u001b[39m.\u001b[39miterencode(obj)\n\u001b[0;32m    177\u001b[0m \u001b[39m# could accelerate with writelines in some versions of Python, at\u001b[39;00m\n\u001b[0;32m    178\u001b[0m \u001b[39m# a debuggability cost\u001b[39;00m\n\u001b[1;32m--> 179\u001b[0m \u001b[39mfor\u001b[39;00m chunk \u001b[39min\u001b[39;00m iterable:\n\u001b[0;32m    180\u001b[0m     fp\u001b[39m.\u001b[39mwrite(chunk)\n",
      "File \u001b[1;32mc:\\Users\\armin\\Documents\\GitRepo\\uspto_patent_analysis\\.conda\\Lib\\json\\encoder.py:432\u001b[0m, in \u001b[0;36m_make_iterencode.<locals>._iterencode\u001b[1;34m(o, _current_indent_level)\u001b[0m\n\u001b[0;32m    430\u001b[0m     \u001b[39myield from\u001b[39;00m _iterencode_list(o, _current_indent_level)\n\u001b[0;32m    431\u001b[0m \u001b[39melif\u001b[39;00m \u001b[39misinstance\u001b[39m(o, \u001b[39mdict\u001b[39m):\n\u001b[1;32m--> 432\u001b[0m     \u001b[39myield from\u001b[39;00m _iterencode_dict(o, _current_indent_level)\n\u001b[0;32m    433\u001b[0m \u001b[39melse\u001b[39;00m:\n\u001b[0;32m    434\u001b[0m     \u001b[39mif\u001b[39;00m markers \u001b[39mis\u001b[39;00m \u001b[39mnot\u001b[39;00m \u001b[39mNone\u001b[39;00m:\n",
      "File \u001b[1;32mc:\\Users\\armin\\Documents\\GitRepo\\uspto_patent_analysis\\.conda\\Lib\\json\\encoder.py:406\u001b[0m, in \u001b[0;36m_make_iterencode.<locals>._iterencode_dict\u001b[1;34m(dct, _current_indent_level)\u001b[0m\n\u001b[0;32m    404\u001b[0m         \u001b[39melse\u001b[39;00m:\n\u001b[0;32m    405\u001b[0m             chunks \u001b[39m=\u001b[39m _iterencode(value, _current_indent_level)\n\u001b[1;32m--> 406\u001b[0m         \u001b[39myield from\u001b[39;00m chunks\n\u001b[0;32m    407\u001b[0m \u001b[39mif\u001b[39;00m newline_indent \u001b[39mis\u001b[39;00m \u001b[39mnot\u001b[39;00m \u001b[39mNone\u001b[39;00m:\n\u001b[0;32m    408\u001b[0m     _current_indent_level \u001b[39m-\u001b[39m\u001b[39m=\u001b[39m \u001b[39m1\u001b[39m\n",
      "File \u001b[1;32mc:\\Users\\armin\\Documents\\GitRepo\\uspto_patent_analysis\\.conda\\Lib\\json\\encoder.py:326\u001b[0m, in \u001b[0;36m_make_iterencode.<locals>._iterencode_list\u001b[1;34m(lst, _current_indent_level)\u001b[0m\n\u001b[0;32m    324\u001b[0m         \u001b[39melse\u001b[39;00m:\n\u001b[0;32m    325\u001b[0m             chunks \u001b[39m=\u001b[39m _iterencode(value, _current_indent_level)\n\u001b[1;32m--> 326\u001b[0m         \u001b[39myield from\u001b[39;00m chunks\n\u001b[0;32m    327\u001b[0m \u001b[39mif\u001b[39;00m newline_indent \u001b[39mis\u001b[39;00m \u001b[39mnot\u001b[39;00m \u001b[39mNone\u001b[39;00m:\n\u001b[0;32m    328\u001b[0m     _current_indent_level \u001b[39m-\u001b[39m\u001b[39m=\u001b[39m \u001b[39m1\u001b[39m\n",
      "File \u001b[1;32mc:\\Users\\armin\\Documents\\GitRepo\\uspto_patent_analysis\\.conda\\Lib\\json\\encoder.py:439\u001b[0m, in \u001b[0;36m_make_iterencode.<locals>._iterencode\u001b[1;34m(o, _current_indent_level)\u001b[0m\n\u001b[0;32m    437\u001b[0m         \u001b[39mraise\u001b[39;00m \u001b[39mValueError\u001b[39;00m(\u001b[39m\"\u001b[39m\u001b[39mCircular reference detected\u001b[39m\u001b[39m\"\u001b[39m)\n\u001b[0;32m    438\u001b[0m     markers[markerid] \u001b[39m=\u001b[39m o\n\u001b[1;32m--> 439\u001b[0m o \u001b[39m=\u001b[39m _default(o)\n\u001b[0;32m    440\u001b[0m \u001b[39myield from\u001b[39;00m _iterencode(o, _current_indent_level)\n\u001b[0;32m    441\u001b[0m \u001b[39mif\u001b[39;00m markers \u001b[39mis\u001b[39;00m \u001b[39mnot\u001b[39;00m \u001b[39mNone\u001b[39;00m:\n",
      "File \u001b[1;32mc:\\Users\\armin\\Documents\\GitRepo\\uspto_patent_analysis\\.conda\\Lib\\json\\encoder.py:180\u001b[0m, in \u001b[0;36mJSONEncoder.default\u001b[1;34m(self, o)\u001b[0m\n\u001b[0;32m    161\u001b[0m \u001b[39mdef\u001b[39;00m \u001b[39mdefault\u001b[39m(\u001b[39mself\u001b[39m, o):\n\u001b[0;32m    162\u001b[0m \u001b[39m    \u001b[39m\u001b[39m\"\"\"Implement this method in a subclass such that it returns\u001b[39;00m\n\u001b[0;32m    163\u001b[0m \u001b[39m    a serializable object for ``o``, or calls the base implementation\u001b[39;00m\n\u001b[0;32m    164\u001b[0m \u001b[39m    (to raise a ``TypeError``).\u001b[39;00m\n\u001b[1;32m   (...)\u001b[0m\n\u001b[0;32m    178\u001b[0m \n\u001b[0;32m    179\u001b[0m \u001b[39m    \"\"\"\u001b[39;00m\n\u001b[1;32m--> 180\u001b[0m     \u001b[39mraise\u001b[39;00m \u001b[39mTypeError\u001b[39;00m(\u001b[39mf\u001b[39m\u001b[39m'\u001b[39m\u001b[39mObject of type \u001b[39m\u001b[39m{\u001b[39;00mo\u001b[39m.\u001b[39m\u001b[39m__class__\u001b[39m\u001b[39m.\u001b[39m\u001b[39m__name__\u001b[39m\u001b[39m}\u001b[39;00m\u001b[39m \u001b[39m\u001b[39m'\u001b[39m\n\u001b[0;32m    181\u001b[0m                     \u001b[39mf\u001b[39m\u001b[39m'\u001b[39m\u001b[39mis not JSON serializable\u001b[39m\u001b[39m'\u001b[39m)\n",
      "\u001b[1;31mTypeError\u001b[0m: Object of type ParseError is not JSON serializable"
     ]
    }
   ],
   "source": [
    "importlib.reload(koragent)\n",
    "raw, output = await koragent.call_extraction_to_json(schema, year, month, day, saved_patent_names, 96, True, \"gpt-3.5-turbo\")"
   ]
  },
  {
   "cell_type": "code",
   "execution_count": 17,
   "metadata": {},
   "outputs": [
    {
     "name": "stdout",
     "output_type": "stream",
     "text": [
      "Starting the extraction process...\n",
      "Loading documents from: c:\\Users\\armin\\Documents\\GitRepo\\uspto_patent_analysis\\data\\ipa230105\\US20230001042A1-20230105.XML.txt\n",
      "Running extraction chain...\n",
      "{'uid': '0', 'source_uid': '0', 'data': {'physical_measurements': [{'substance': 'medical suture thread', 'measurement_type': '', 'value': '', 'unit': ''}, {'substance': 'outer surface coating', 'measurement_type': '', 'value': '', 'unit': ''}, {'substance': 'resin materials', 'measurement_type': '', 'value': '', 'unit': ''}, {'substance': 'operability improvement', 'measurement_type': '', 'value': '', 'unit': ''}, {'substance': 'slidability improvement', 'measurement_type': '', 'value': '', 'unit': ''}, {'substance': 'slide-down performance improvement', 'measurement_type': '', 'value': '', 'unit': ''}, {'substance': '2-methacryloyloxyethyl phosphorylcholine (MPC) coating', 'measurement_type': '', 'value': '', 'unit': ''}]}, 'raw': 'substance|measurement_type|value|unit\\r\\nmedical suture thread|||\\r\\nouter surface coating|||\\r\\nresin materials|||\\r\\noperability improvement|||\\r\\nslidability improvement|||\\r\\nslide-down performance improvement|||\\r\\n2-methacryloyloxyethyl phosphorylcholine (MPC) coating|||', 'validated_data': {}, 'errors': []}\n",
      "Writing the output to a file...\n",
      "Call to 'call_extraction_to_json' completed.\n",
      "Starting the extraction process...\n",
      "Loading documents from: c:\\Users\\armin\\Documents\\GitRepo\\uspto_patent_analysis\\data\\ipa230105\\US20230001385A1-20230105.XML.txt\n",
      "Running extraction chain...\n"
     ]
    },
    {
     "name": "stderr",
     "output_type": "stream",
     "text": [
      "Unclosed client session\n",
      "client_session: <aiohttp.client.ClientSession object at 0x000001D50DA71850>\n",
      "Unclosed client session\n",
      "client_session: <aiohttp.client.ClientSession object at 0x000001D5CA6FAA50>\n",
      "Unclosed client session\n",
      "client_session: <aiohttp.client.ClientSession object at 0x000001D50DA41110>\n",
      "Unclosed client session\n",
      "client_session: <aiohttp.client.ClientSession object at 0x000001D5C9EACB10>\n",
      "Unclosed client session\n",
      "client_session: <aiohttp.client.ClientSession object at 0x000001D5CA1922D0>\n"
     ]
    },
    {
     "ename": "CancelledError",
     "evalue": "",
     "output_type": "error",
     "traceback": [
      "\u001b[1;31m---------------------------------------------------------------------------\u001b[0m",
      "\u001b[1;31mCancelledError\u001b[0m                            Traceback (most recent call last)",
      "Cell \u001b[1;32mIn[17], line 5\u001b[0m\n\u001b[0;32m      3\u001b[0m results\u001b[39m=\u001b[39m {}\n\u001b[0;32m      4\u001b[0m \u001b[39mfor\u001b[39;00m idx \u001b[39min\u001b[39;00m indices:\n\u001b[1;32m----> 5\u001b[0m     raw, output \u001b[39m=\u001b[39m \u001b[39mawait\u001b[39;00m koragent\u001b[39m.\u001b[39mcall_extraction_to_json(schema, year, month, day, saved_patent_names, idx, \u001b[39mTrue\u001b[39;00m, \u001b[39m\"\u001b[39m\u001b[39mgpt-3.5-turbo\u001b[39m\u001b[39m\"\u001b[39m)\n\u001b[0;32m      6\u001b[0m     results[idx] \u001b[39m=\u001b[39m [raw, output]\n",
      "File \u001b[1;32mc:\\Users\\armin\\Documents\\GitRepo\\uspto_patent_analysis\\src\\koragent.py:97\u001b[0m, in \u001b[0;36mcall_extraction_to_json\u001b[1;34m(schema, year, month, day, saved_patent_names, count, logging, model_name)\u001b[0m\n\u001b[0;32m     94\u001b[0m \u001b[39mif\u001b[39;00m logging:\n\u001b[0;32m     95\u001b[0m     \u001b[39mprint\u001b[39m(\u001b[39m\"\u001b[39m\u001b[39mRunning extraction chain...\u001b[39m\u001b[39m\"\u001b[39m)\n\u001b[1;32m---> 97\u001b[0m output \u001b[39m=\u001b[39m \u001b[39mawait\u001b[39;00m extract_from_documents(chain, documents, max_concurrency\u001b[39m=\u001b[39m\u001b[39m5\u001b[39m, use_uid\u001b[39m=\u001b[39m\u001b[39mFalse\u001b[39;00m, return_exceptions\u001b[39m=\u001b[39m\u001b[39mTrue\u001b[39;00m)\n\u001b[0;32m     99\u001b[0m \u001b[39mif\u001b[39;00m logging:\n\u001b[0;32m    100\u001b[0m     \u001b[39mprint\u001b[39m(output[\u001b[39m0\u001b[39m])\n",
      "File \u001b[1;32mc:\\Users\\armin\\Documents\\GitRepo\\uspto_patent_analysis\\.conda\\Lib\\site-packages\\kor\\extraction\\api.py:187\u001b[0m, in \u001b[0;36mextract_from_documents\u001b[1;34m(chain, documents, max_concurrency, use_uid, extraction_uid_function, return_exceptions)\u001b[0m\n\u001b[0;32m    175\u001b[0m     extraction_uid \u001b[39m=\u001b[39m (\n\u001b[0;32m    176\u001b[0m         extraction_uid_function(doc) \u001b[39mif\u001b[39;00m extraction_uid_function \u001b[39melse\u001b[39;00m source_uid\n\u001b[0;32m    177\u001b[0m     )\n\u001b[0;32m    179\u001b[0m     tasks\u001b[39m.\u001b[39mappend(\n\u001b[0;32m    180\u001b[0m         asyncio\u001b[39m.\u001b[39mensure_future(\n\u001b[0;32m    181\u001b[0m             _extract_from_document_with_semaphore(\n\u001b[1;32m   (...)\u001b[0m\n\u001b[0;32m    184\u001b[0m         )\n\u001b[0;32m    185\u001b[0m     )\n\u001b[1;32m--> 187\u001b[0m results \u001b[39m=\u001b[39m \u001b[39mawait\u001b[39;00m asyncio\u001b[39m.\u001b[39mgather(\u001b[39m*\u001b[39mtasks, return_exceptions\u001b[39m=\u001b[39mreturn_exceptions)\n\u001b[0;32m    188\u001b[0m \u001b[39mreturn\u001b[39;00m results\n",
      "File \u001b[1;32mc:\\Users\\armin\\Documents\\GitRepo\\uspto_patent_analysis\\.conda\\Lib\\site-packages\\kor\\extraction\\api.py:32\u001b[0m, in \u001b[0;36m_extract_from_document_with_semaphore\u001b[1;34m(semaphore, chain, document, uid, source_uid)\u001b[0m\n\u001b[0;32m     24\u001b[0m \u001b[39masync\u001b[39;00m \u001b[39mdef\u001b[39;00m \u001b[39m_extract_from_document_with_semaphore\u001b[39m(\n\u001b[0;32m     25\u001b[0m     semaphore: asyncio\u001b[39m.\u001b[39mSemaphore,\n\u001b[0;32m     26\u001b[0m     chain: LLMChain,\n\u001b[1;32m   (...)\u001b[0m\n\u001b[0;32m     29\u001b[0m     source_uid: \u001b[39mstr\u001b[39m,\n\u001b[0;32m     30\u001b[0m ) \u001b[39m-\u001b[39m\u001b[39m>\u001b[39m DocumentExtraction:\n\u001b[0;32m     31\u001b[0m \u001b[39m    \u001b[39m\u001b[39m\"\"\"Extract from document with a semaphore to limit concurrency.\"\"\"\u001b[39;00m\n\u001b[1;32m---> 32\u001b[0m     \u001b[39masync\u001b[39;00m \u001b[39mwith\u001b[39;00m semaphore:\n\u001b[0;32m     33\u001b[0m         extraction_result: Extraction \u001b[39m=\u001b[39m cast(\n\u001b[0;32m     34\u001b[0m             Extraction, \u001b[39mawait\u001b[39;00m chain\u001b[39m.\u001b[39marun(document\u001b[39m.\u001b[39mpage_content)\n\u001b[0;32m     35\u001b[0m         )\n\u001b[0;32m     36\u001b[0m         \u001b[39mreturn\u001b[39;00m {\n\u001b[0;32m     37\u001b[0m             \u001b[39m\"\u001b[39m\u001b[39muid\u001b[39m\u001b[39m\"\u001b[39m: uid,\n\u001b[0;32m     38\u001b[0m             \u001b[39m\"\u001b[39m\u001b[39msource_uid\u001b[39m\u001b[39m\"\u001b[39m: source_uid,\n\u001b[1;32m   (...)\u001b[0m\n\u001b[0;32m     42\u001b[0m             \u001b[39m\"\u001b[39m\u001b[39merrors\u001b[39m\u001b[39m\"\u001b[39m: extraction_result[\u001b[39m\"\u001b[39m\u001b[39merrors\u001b[39m\u001b[39m\"\u001b[39m],\n\u001b[0;32m     43\u001b[0m         }\n",
      "File \u001b[1;32mc:\\Users\\armin\\Documents\\GitRepo\\uspto_patent_analysis\\.conda\\Lib\\asyncio\\locks.py:15\u001b[0m, in \u001b[0;36m_ContextManagerMixin.__aenter__\u001b[1;34m(self)\u001b[0m\n\u001b[0;32m     14\u001b[0m \u001b[39masync\u001b[39;00m \u001b[39mdef\u001b[39;00m \u001b[39m__aenter__\u001b[39m(\u001b[39mself\u001b[39m):\n\u001b[1;32m---> 15\u001b[0m     \u001b[39mawait\u001b[39;00m \u001b[39mself\u001b[39m\u001b[39m.\u001b[39macquire()\n\u001b[0;32m     16\u001b[0m     \u001b[39m# We have no use for the \"as ...\"  clause in the with\u001b[39;00m\n\u001b[0;32m     17\u001b[0m     \u001b[39m# statement for locks.\u001b[39;00m\n\u001b[0;32m     18\u001b[0m     \u001b[39mreturn\u001b[39;00m \u001b[39mNone\u001b[39;00m\n",
      "File \u001b[1;32mc:\\Users\\armin\\Documents\\GitRepo\\uspto_patent_analysis\\.conda\\Lib\\asyncio\\locks.py:387\u001b[0m, in \u001b[0;36mSemaphore.acquire\u001b[1;34m(self)\u001b[0m\n\u001b[0;32m    385\u001b[0m \u001b[39mtry\u001b[39;00m:\n\u001b[0;32m    386\u001b[0m     \u001b[39mtry\u001b[39;00m:\n\u001b[1;32m--> 387\u001b[0m         \u001b[39mawait\u001b[39;00m fut\n\u001b[0;32m    388\u001b[0m     \u001b[39mfinally\u001b[39;00m:\n\u001b[0;32m    389\u001b[0m         \u001b[39mself\u001b[39m\u001b[39m.\u001b[39m_waiters\u001b[39m.\u001b[39mremove(fut)\n",
      "\u001b[1;31mCancelledError\u001b[0m: "
     ]
    }
   ],
   "source": [
    "importlib.reload(koragent)\n",
    "\n",
    "results= {}\n",
    "for idx in indices:\n",
    "    raw, output = await koragent.call_extraction_to_json(schema, year, month, day, saved_patent_names, idx, True, \"gpt-3.5-turbo\")\n",
    "    results[idx] = [raw, output]"
   ]
  },
  {
   "cell_type": "code",
   "execution_count": null,
   "metadata": {},
   "outputs": [],
   "source": []
  }
 ],
 "metadata": {
  "kernelspec": {
   "display_name": "Python 3",
   "language": "python",
   "name": "python3"
  },
  "language_info": {
   "codemirror_mode": {
    "name": "ipython",
    "version": 3
   },
   "file_extension": ".py",
   "mimetype": "text/x-python",
   "name": "python",
   "nbconvert_exporter": "python",
   "pygments_lexer": "ipython3",
   "version": "3.11.4"
  },
  "orig_nbformat": 4
 },
 "nbformat": 4,
 "nbformat_minor": 2
}
