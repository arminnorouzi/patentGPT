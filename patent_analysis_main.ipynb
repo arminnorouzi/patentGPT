{
 "cells": [
  {
   "cell_type": "markdown",
   "metadata": {},
   "source": [
    "# Patent Analysis"
   ]
  },
  {
   "cell_type": "code",
   "execution_count": 26,
   "metadata": {},
   "outputs": [],
   "source": [
    "%%capture\n",
    "# !pip install -r requirements.txt\n"
   ]
  },
  {
   "cell_type": "markdown",
   "metadata": {},
   "source": [
    "## Importing Libraries"
   ]
  },
  {
   "cell_type": "code",
   "execution_count": 27,
   "metadata": {},
   "outputs": [],
   "source": [
    "%%capture\n",
    "import sys\n",
    "import importlib\n",
    "sys.path.append('src')\n",
    "\n",
    "\n",
    "import preprocess_data\n",
    "import qaagent\n",
    "import koragent\n",
    "\n",
    "importlib.reload(preprocess_data)\n",
    "importlib.reload(qaagent)\n",
    "importlib.reload(koragent)\n"
   ]
  },
  {
   "cell_type": "code",
   "execution_count": 28,
   "metadata": {},
   "outputs": [
    {
     "data": {
      "text/plain": [
       "True"
      ]
     },
     "execution_count": 28,
     "metadata": {},
     "output_type": "execute_result"
    }
   ],
   "source": [
    "import nltk\n",
    "nltk.download('all', quiet=True)"
   ]
  },
  {
   "cell_type": "markdown",
   "metadata": {},
   "source": [
    "## Downloading patents and preprocessing"
   ]
  },
  {
   "cell_type": "code",
   "execution_count": 29,
   "metadata": {},
   "outputs": [],
   "source": [
    "year = 2023\n",
    "month = 1\n",
    "day = 5"
   ]
  },
  {
   "cell_type": "code",
   "execution_count": 30,
   "metadata": {},
   "outputs": [
    {
     "name": "stdout",
     "output_type": "stream",
     "text": [
      "File c:\\Users\\armin\\Documents\\GitRepo\\uspto_patent_analysis\\data\\ipa230105 already exists. Skipping download.\n",
      "File c:\\Users\\armin\\Documents\\GitRepo\\uspto_patent_analysis\\data\\ipa230105 already exists. Skipping extract.\n"
     ]
    }
   ],
   "source": [
    "saved_patent_names = preprocess_data.parse_and_save_patents(year, month, day, False)"
   ]
  },
  {
   "cell_type": "markdown",
   "metadata": {},
   "source": [
    "## Loading data and querying sample file\n"
   ]
  },
  {
   "cell_type": "code",
   "execution_count": 31,
   "metadata": {},
   "outputs": [],
   "source": [
    "prompt = \"\"\"\n",
    "Task: Carefully review the given patent text and extract as much physical measurements information such as length/distance, mass/weight, time, temperature, Volume, area, speed, pressure, energy, power, electric current \n",
    "and voltage, frequency, force, acceleration, density, resistivity, magnetic field strength, and luminous intensity as much as possible. \n",
    "We are particularly interested in physical measurements including substance that was measured, Value of the measurement, and Unit of the measurement, and measurement type mentioned in the text. \n",
    "\n",
    "For each measurement, please provide the following details:\n",
    "- The substance that was measured. (substance)\n",
    "- The specific value or range that was measured. (Measured Value)\n",
    "- The unit of the measurement, if provided. (Unit)\n",
    "- The type of measurement being conducted (e.g., diameter, size, etc.) \n",
    "\n",
    "\n",
    "Format your response in a structured JSON-like format, as follows:\n",
    "\n",
    "{\"Content\": [\n",
    "    {\n",
    "      \"Measurement_substance\": \"substance\",\n",
    "      \"Measured_value\": \"value\",\n",
    "      \"Measured_unit\": \"unit\",\n",
    "      \"measurement_type\": \"type\"\n",
    "    },\n",
    "    // ... additional measurements, if present\n",
    "  ]\n",
    "}\n",
    "\n",
    "If multiple measurements are present in the text, each should be listed as a separate object within the \"Content\" array.\n",
    "\n",
    "Example: If the text includes the sentence, \"The resulting BaCO3 had a crystallite size of between about 20 and 40 nm\", the output should be:\n",
    "\n",
    "{\"Content\": [\n",
    "    {\n",
    "      \"Measurement_substance\": \"BaCO3\",\n",
    "      \"Measured_value\": \"between about 20 and 40\",\n",
    "      \"Measured_unit\": \"nm\",\n",
    "      \"measurement_type\": \"crystallite size\"\n",
    "    }\n",
    "  ]\n",
    "}\n",
    "\n",
    "Try to provide as complete and accurate information as possible. Print only the formatted JSON response.\n",
    "\"\"\""
   ]
  },
  {
   "cell_type": "code",
   "execution_count": 32,
   "metadata": {},
   "outputs": [],
   "source": [
    "saved_patent_names =  ['US20230001042A1-20230105.XML.txt',\n",
    "                       'US20230001385A1-20230105.XML.txt',\n",
    "                       'US20230002279A1-20230105.XML.txt',\n",
    "                       'US20230002549A1-20230105.XML.txt',\n",
    "                       'US20230002554A1-20230105.XML.txt',\n",
    "                       'US20230002555A1-20230105.XML.txt',\n",
    "                       'US20230002559A1-20230105.XML.txt'\n",
    "                       ]"
   ]
  },
  {
   "cell_type": "code",
   "execution_count": 33,
   "metadata": {},
   "outputs": [
    {
     "name": "stdout",
     "output_type": "stream",
     "text": [
      "Loading documents from: c:\\Users\\armin\\Documents\\GitRepo\\uspto_patent_analysis\\data\\ipa230105\\US20230001042A1-20230105.XML.txt\n",
      "Generating embeddings and persisting...\n"
     ]
    },
    {
     "name": "stdout",
     "output_type": "stream",
     "text": [
      "Running retrieval chain...\n",
      "Total Tokens: 1657\n",
      "Prompt Tokens: 1294\n",
      "Completion Tokens: 363\n",
      "Successful Requests: 1\n",
      "Total Cost (USD): $0.002667\n",
      "Writing the output to a file...\n",
      "Call to 'call_QA_to_json' completed.\n"
     ]
    }
   ],
   "source": [
    "\n",
    "model_name = \"gpt-3.5-turbo\"\n",
    "# model_name = \"gpt-4\"\n",
    "output = qaagent.call_QA_to_json(prompt, year, month, day, saved_patent_names, 0, True, model_name)"
   ]
  },
  {
   "cell_type": "code",
   "execution_count": 34,
   "metadata": {},
   "outputs": [
    {
     "name": "stdout",
     "output_type": "stream",
     "text": [
      "Loading documents from: c:\\Users\\armin\\Documents\\GitRepo\\uspto_patent_analysis\\data\\ipa230105\\US20230001385A1-20230105.XML.txt\n",
      "Generating embeddings and persisting...\n",
      "Running retrieval chain...\n",
      "Total Tokens: 2701\n",
      "Prompt Tokens: 1480\n",
      "Completion Tokens: 1221\n",
      "Successful Requests: 1\n",
      "Total Cost (USD): $0.004662\n",
      "Writing the output to a file...\n",
      "Call to 'call_QA_to_json' completed.\n"
     ]
    }
   ],
   "source": [
    "model_name = \"gpt-3.5-turbo\"\n",
    "# model_name = \"gpt-4\"\n",
    "output = qaagent.call_QA_to_json(prompt, year, month, day, saved_patent_names,1, True, model_name)"
   ]
  },
  {
   "cell_type": "code",
   "execution_count": 35,
   "metadata": {},
   "outputs": [
    {
     "name": "stdout",
     "output_type": "stream",
     "text": [
      "Loading documents from: c:\\Users\\armin\\Documents\\GitRepo\\uspto_patent_analysis\\data\\ipa230105\\US20230002279A1-20230105.XML.txt\n",
      "Generating embeddings and persisting...\n",
      "Running retrieval chain...\n",
      "Total Tokens: 1821\n",
      "Prompt Tokens: 1098\n",
      "Completion Tokens: 723\n",
      "Successful Requests: 1\n",
      "Total Cost (USD): $0.0030930000000000003\n",
      "Writing the output to a file...\n",
      "Call to 'call_QA_to_json' completed.\n"
     ]
    }
   ],
   "source": [
    "\n",
    "\n",
    "model_name = \"gpt-3.5-turbo\"\n",
    "# model_name = \"gpt-4\"\n",
    "output = qaagent.call_QA_to_json(prompt, year, month, day, saved_patent_names, 2, True, model_name)"
   ]
  },
  {
   "cell_type": "code",
   "execution_count": 36,
   "metadata": {},
   "outputs": [
    {
     "name": "stdout",
     "output_type": "stream",
     "text": [
      "Loading documents from: c:\\Users\\armin\\Documents\\GitRepo\\uspto_patent_analysis\\data\\ipa230105\\US20230002549A1-20230105.XML.txt\n",
      "Generating embeddings and persisting...\n",
      "Running retrieval chain...\n",
      "Total Tokens: 1760\n",
      "Prompt Tokens: 1364\n",
      "Completion Tokens: 396\n",
      "Successful Requests: 1\n",
      "Total Cost (USD): $0.0028380000000000002\n",
      "Writing the output to a file...\n",
      "Call to 'call_QA_to_json' completed.\n"
     ]
    }
   ],
   "source": [
    "\n",
    "\n",
    "model_name = \"gpt-3.5-turbo\"\n",
    "# model_name = \"gpt-4\"\n",
    "output = qaagent.call_QA_to_json(prompt, year, month, day, saved_patent_names, 3, True, model_name)"
   ]
  },
  {
   "cell_type": "code",
   "execution_count": 37,
   "metadata": {},
   "outputs": [
    {
     "name": "stdout",
     "output_type": "stream",
     "text": [
      "Loading documents from: c:\\Users\\armin\\Documents\\GitRepo\\uspto_patent_analysis\\data\\ipa230105\\US20230002554A1-20230105.XML.txt\n",
      "Generating embeddings and persisting...\n",
      "Running retrieval chain...\n",
      "Total Tokens: 2044\n",
      "Prompt Tokens: 1305\n",
      "Completion Tokens: 739\n",
      "Successful Requests: 1\n",
      "Total Cost (USD): $0.0034355\n",
      "Writing the output to a file...\n",
      "Call to 'call_QA_to_json' completed.\n"
     ]
    }
   ],
   "source": [
    "\n",
    "\n",
    "model_name = \"gpt-3.5-turbo\"\n",
    "# model_name = \"gpt-4\"\n",
    "output = qaagent.call_QA_to_json(prompt, year, month, day, saved_patent_names, 4, True, model_name)"
   ]
  },
  {
   "cell_type": "code",
   "execution_count": 38,
   "metadata": {},
   "outputs": [
    {
     "name": "stdout",
     "output_type": "stream",
     "text": [
      "Loading documents from: c:\\Users\\armin\\Documents\\GitRepo\\uspto_patent_analysis\\data\\ipa230105\\US20230002555A1-20230105.XML.txt\n",
      "Generating embeddings and persisting...\n",
      "Running retrieval chain...\n",
      "Total Tokens: 1840\n",
      "Prompt Tokens: 1440\n",
      "Completion Tokens: 400\n",
      "Successful Requests: 1\n",
      "Total Cost (USD): $0.00296\n",
      "Writing the output to a file...\n",
      "Call to 'call_QA_to_json' completed.\n"
     ]
    }
   ],
   "source": [
    "\n",
    "model_name = \"gpt-3.5-turbo\"\n",
    "# model_name = \"gpt-4\"\n",
    "output = qaagent.call_QA_to_json(prompt, year, month, day, saved_patent_names, 5, True, model_name)"
   ]
  },
  {
   "cell_type": "code",
   "execution_count": 39,
   "metadata": {},
   "outputs": [
    {
     "name": "stdout",
     "output_type": "stream",
     "text": [
      "Loading documents from: c:\\Users\\armin\\Documents\\GitRepo\\uspto_patent_analysis\\data\\ipa230105\\US20230002559A1-20230105.XML.txt\n",
      "Generating embeddings and persisting...\n",
      "Running retrieval chain...\n",
      "Total Tokens: 2044\n",
      "Prompt Tokens: 1396\n",
      "Completion Tokens: 648\n",
      "Successful Requests: 1\n",
      "Total Cost (USD): $0.00339\n",
      "Writing the output to a file...\n",
      "Call to 'call_QA_to_json' completed.\n"
     ]
    }
   ],
   "source": [
    "\n",
    "model_name = \"gpt-3.5-turbo\"\n",
    "# model_name = \"gpt-4\"\n",
    "output = qaagent.call_QA_to_json(prompt, year, month, day, saved_patent_names, 6, True, model_name)"
   ]
  },
  {
   "cell_type": "code",
   "execution_count": null,
   "metadata": {},
   "outputs": [],
   "source": []
  },
  {
   "cell_type": "code",
   "execution_count": null,
   "metadata": {},
   "outputs": [],
   "source": []
  }
 ],
 "metadata": {
  "kernelspec": {
   "display_name": "Python 3",
   "language": "python",
   "name": "python3"
  },
  "language_info": {
   "codemirror_mode": {
    "name": "ipython",
    "version": 3
   },
   "file_extension": ".py",
   "mimetype": "text/x-python",
   "name": "python",
   "nbconvert_exporter": "python",
   "pygments_lexer": "ipython3",
   "version": "3.11.4"
  },
  "orig_nbformat": 4
 },
 "nbformat": 4,
 "nbformat_minor": 2
}
