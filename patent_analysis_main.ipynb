{
 "cells": [
  {
   "cell_type": "markdown",
   "metadata": {},
   "source": [
    "# Patent Analysis"
   ]
  },
  {
   "cell_type": "code",
   "execution_count": 51,
   "metadata": {},
   "outputs": [
    {
     "name": "stdout",
     "output_type": "stream",
     "text": [
      "Requirement already satisfied: asttokens==2.2.1 in c:\\users\\armin\\appdata\\roaming\\python\\python311\\site-packages (from -r requirements.txt (line 1)) (2.2.1)\n",
      "Requirement already satisfied: backcall==0.2.0 in c:\\users\\armin\\appdata\\roaming\\python\\python311\\site-packages (from -r requirements.txt (line 2)) (0.2.0)\n",
      "Requirement already satisfied: beautifulsoup4==4.12.2 in c:\\python311\\lib\\site-packages (from -r requirements.txt (line 3)) (4.12.2)\n",
      "Requirement already satisfied: certifi==2023.7.22 in c:\\python311\\lib\\site-packages (from -r requirements.txt (line 4)) (2023.7.22)\n",
      "Requirement already satisfied: charset-normalizer==3.2.0 in c:\\python311\\lib\\site-packages (from -r requirements.txt (line 5)) (3.2.0)\n",
      "Requirement already satisfied: colorama==0.4.6 in c:\\users\\armin\\appdata\\roaming\\python\\python311\\site-packages (from -r requirements.txt (line 6)) (0.4.6)\n",
      "Requirement already satisfied: comm==0.1.3 in c:\\users\\armin\\appdata\\roaming\\python\\python311\\site-packages (from -r requirements.txt (line 7)) (0.1.3)\n",
      "Requirement already satisfied: debugpy==1.6.7 in c:\\users\\armin\\appdata\\roaming\\python\\python311\\site-packages (from -r requirements.txt (line 8)) (1.6.7)\n",
      "Requirement already satisfied: decorator==5.1.1 in c:\\users\\armin\\appdata\\roaming\\python\\python311\\site-packages (from -r requirements.txt (line 9)) (5.1.1)\n",
      "Requirement already satisfied: executing==1.2.0 in c:\\users\\armin\\appdata\\roaming\\python\\python311\\site-packages (from -r requirements.txt (line 10)) (1.2.0)\n",
      "Requirement already satisfied: idna==3.4 in c:\\python311\\lib\\site-packages (from -r requirements.txt (line 11)) (3.4)\n",
      "Requirement already satisfied: ipykernel==6.25.0 in c:\\users\\armin\\appdata\\roaming\\python\\python311\\site-packages (from -r requirements.txt (line 12)) (6.25.0)\n",
      "Requirement already satisfied: ipython==8.14.0 in c:\\users\\armin\\appdata\\roaming\\python\\python311\\site-packages (from -r requirements.txt (line 13)) (8.14.0)\n",
      "Requirement already satisfied: jedi==0.18.2 in c:\\users\\armin\\appdata\\roaming\\python\\python311\\site-packages (from -r requirements.txt (line 14)) (0.18.2)\n",
      "Requirement already satisfied: jupyter_client==8.3.0 in c:\\users\\armin\\appdata\\roaming\\python\\python311\\site-packages (from -r requirements.txt (line 15)) (8.3.0)\n",
      "Requirement already satisfied: jupyter_core==5.3.1 in c:\\users\\armin\\appdata\\roaming\\python\\python311\\site-packages (from -r requirements.txt (line 16)) (5.3.1)\n",
      "Requirement already satisfied: lxml==4.9.3 in c:\\python311\\lib\\site-packages (from -r requirements.txt (line 17)) (4.9.3)\n",
      "Requirement already satisfied: matplotlib-inline==0.1.6 in c:\\users\\armin\\appdata\\roaming\\python\\python311\\site-packages (from -r requirements.txt (line 18)) (0.1.6)\n",
      "Requirement already satisfied: nest-asyncio==1.5.6 in c:\\users\\armin\\appdata\\roaming\\python\\python311\\site-packages (from -r requirements.txt (line 19)) (1.5.6)\n",
      "Requirement already satisfied: packaging==23.1 in c:\\users\\armin\\appdata\\roaming\\python\\python311\\site-packages (from -r requirements.txt (line 20)) (23.1)\n",
      "Requirement already satisfied: parso==0.8.3 in c:\\users\\armin\\appdata\\roaming\\python\\python311\\site-packages (from -r requirements.txt (line 21)) (0.8.3)\n",
      "Requirement already satisfied: pickleshare==0.7.5 in c:\\users\\armin\\appdata\\roaming\\python\\python311\\site-packages (from -r requirements.txt (line 22)) (0.7.5)\n",
      "Requirement already satisfied: platformdirs==3.9.1 in c:\\users\\armin\\appdata\\roaming\\python\\python311\\site-packages (from -r requirements.txt (line 23)) (3.9.1)\n",
      "Requirement already satisfied: prompt-toolkit==3.0.39 in c:\\users\\armin\\appdata\\roaming\\python\\python311\\site-packages (from -r requirements.txt (line 24)) (3.0.39)\n",
      "Requirement already satisfied: psutil==5.9.5 in c:\\users\\armin\\appdata\\roaming\\python\\python311\\site-packages (from -r requirements.txt (line 25)) (5.9.5)\n",
      "Requirement already satisfied: pure-eval==0.2.2 in c:\\users\\armin\\appdata\\roaming\\python\\python311\\site-packages (from -r requirements.txt (line 26)) (0.2.2)\n",
      "Requirement already satisfied: pycodestyle==2.10.0 in c:\\python311\\lib\\site-packages (from -r requirements.txt (line 27)) (2.10.0)\n",
      "Requirement already satisfied: Pygments==2.15.1 in c:\\users\\armin\\appdata\\roaming\\python\\python311\\site-packages (from -r requirements.txt (line 28)) (2.15.1)\n",
      "Requirement already satisfied: python-dateutil==2.8.2 in c:\\users\\armin\\appdata\\roaming\\python\\python311\\site-packages (from -r requirements.txt (line 29)) (2.8.2)\n",
      "Requirement already satisfied: pywin32==306 in c:\\users\\armin\\appdata\\roaming\\python\\python311\\site-packages (from -r requirements.txt (line 30)) (306)\n",
      "Requirement already satisfied: pyzmq==25.1.0 in c:\\users\\armin\\appdata\\roaming\\python\\python311\\site-packages (from -r requirements.txt (line 31)) (25.1.0)\n",
      "Requirement already satisfied: requests==2.31.0 in c:\\python311\\lib\\site-packages (from -r requirements.txt (line 32)) (2.31.0)\n",
      "Requirement already satisfied: six==1.16.0 in c:\\users\\armin\\appdata\\roaming\\python\\python311\\site-packages (from -r requirements.txt (line 33)) (1.16.0)\n",
      "Requirement already satisfied: soupsieve==2.4.1 in c:\\python311\\lib\\site-packages (from -r requirements.txt (line 34)) (2.4.1)\n",
      "Requirement already satisfied: stack-data==0.6.2 in c:\\users\\armin\\appdata\\roaming\\python\\python311\\site-packages (from -r requirements.txt (line 35)) (0.6.2)\n",
      "Requirement already satisfied: tornado==6.3.2 in c:\\users\\armin\\appdata\\roaming\\python\\python311\\site-packages (from -r requirements.txt (line 36)) (6.3.2)\n",
      "Requirement already satisfied: traitlets==5.9.0 in c:\\users\\armin\\appdata\\roaming\\python\\python311\\site-packages (from -r requirements.txt (line 37)) (5.9.0)\n",
      "Requirement already satisfied: urllib3==2.0.4 in c:\\python311\\lib\\site-packages (from -r requirements.txt (line 38)) (2.0.4)\n",
      "Requirement already satisfied: wcwidth==0.2.6 in c:\\users\\armin\\appdata\\roaming\\python\\python311\\site-packages (from -r requirements.txt (line 39)) (0.2.6)\n"
     ]
    },
    {
     "name": "stderr",
     "output_type": "stream",
     "text": [
      "\n",
      "[notice] A new release of pip available: 22.3 -> 23.2.1\n",
      "[notice] To update, run: python.exe -m pip install --upgrade pip\n"
     ]
    }
   ],
   "source": [
    "!pip install -r requirements.txt"
   ]
  },
  {
   "cell_type": "markdown",
   "metadata": {},
   "source": [
    "## Importing Libraries"
   ]
  },
  {
   "cell_type": "code",
   "execution_count": 45,
   "metadata": {},
   "outputs": [
    {
     "data": {
      "text/plain": [
       "<module 'preprocess_data' from 'c:\\\\Users\\\\armin\\\\Documents\\\\GitRepo\\\\uspto_patent_analysis\\\\src\\\\preprocess_data.py'>"
      ]
     },
     "execution_count": 45,
     "metadata": {},
     "output_type": "execute_result"
    }
   ],
   "source": [
    "import sys\n",
    "import importlib\n",
    "sys.path.append('src')\n",
    "\n",
    "import preprocess_data\n",
    "importlib.reload(preprocess_data)"
   ]
  },
  {
   "cell_type": "markdown",
   "metadata": {},
   "source": [
    "## Downloading patents and extracting individual XML file"
   ]
  },
  {
   "cell_type": "code",
   "execution_count": 46,
   "metadata": {},
   "outputs": [],
   "source": [
    "year = 2023\n",
    "month = 1\n",
    "day = 5"
   ]
  },
  {
   "cell_type": "code",
   "execution_count": 47,
   "metadata": {},
   "outputs": [
    {
     "name": "stdout",
     "output_type": "stream",
     "text": [
      "Building the URL...\n",
      "URL constructed: https://bulkdata.uspto.gov/data/patent/application/redbook/fulltext/2023/ipa230105.zip\n",
      "Requesting the file...\n",
      "File retrieved successfully. Starting download...\n",
      "File downloaded successfully. Starting extraction...\n",
      "File extracted successfully.\n",
      "ZIP file c:\\Users\\armin\\Documents\\GitRepo\\uspto_patent_analysis\\data\\patents.zip deleted after extraction.\n"
     ]
    }
   ],
   "source": [
    "download_status = preprocess_data.download_weekly_patents(year, month, day)"
   ]
  },
  {
   "cell_type": "code",
   "execution_count": 48,
   "metadata": {},
   "outputs": [
    {
     "name": "stdout",
     "output_type": "stream",
     "text": [
      "Locating the patent file...\n",
      "Reading the patent file...\n",
      "Splitting the patent file into individual patents...\n",
      "Total patents found: 7824\n",
      "Creating directory to store individual patents...\n",
      "Writing individual patents to separate XML files...\n",
      "Patent extraction complete.\n",
      "Main XML file c:\\Users\\armin\\Documents\\GitRepo\\uspto_patent_analysis\\data\\ipa230105.xml deleted after extraction.\n"
     ]
    }
   ],
   "source": [
    "extract_status = preprocess_data.extract_patents(year, month, day)"
   ]
  },
  {
   "cell_type": "code",
   "execution_count": 49,
   "metadata": {},
   "outputs": [
    {
     "name": "stdout",
     "output_type": "stream",
     "text": [
      "### Patent download was completed.\n"
     ]
    }
   ],
   "source": [
    "if download_status:\n",
    "    print(\"### Patent download was completed.\")\n",
    "if extract_status:\n",
    "    print(\"### Patent extraction was completed.\")"
   ]
  },
  {
   "cell_type": "markdown",
   "metadata": {},
   "source": [
    "## Updating requirments file"
   ]
  },
  {
   "cell_type": "code",
   "execution_count": 50,
   "metadata": {},
   "outputs": [],
   "source": [
    "!pip freeze > requirements.txt"
   ]
  }
 ],
 "metadata": {
  "kernelspec": {
   "display_name": "Python 3",
   "language": "python",
   "name": "python3"
  },
  "language_info": {
   "codemirror_mode": {
    "name": "ipython",
    "version": 3
   },
   "file_extension": ".py",
   "mimetype": "text/x-python",
   "name": "python",
   "nbconvert_exporter": "python",
   "pygments_lexer": "ipython3",
   "version": "3.11.0"
  },
  "orig_nbformat": 4
 },
 "nbformat": 4,
 "nbformat_minor": 2
}
